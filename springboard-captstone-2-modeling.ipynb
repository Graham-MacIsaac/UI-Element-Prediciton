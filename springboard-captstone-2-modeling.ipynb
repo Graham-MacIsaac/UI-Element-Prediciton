{
 "cells": [
  {
   "cell_type": "markdown",
   "id": "0914f84d",
   "metadata": {},
   "source": [
    "### Part 3: Modeling\n",
    "<br>\n",
    "The goal of this project is to create a model that can predict what type of common element of computer user interfaces an image is from a hand-written drawing (buttons, toggles, windows, etc.).\n",
    "<br>\n",
    "<br>\n",
    "This is part 3 of that project, and covers building models.\n",
    "<br>\n",
    "<br>"
   ]
  },
  {
   "cell_type": "code",
   "execution_count": 4,
   "id": "621ebe9d",
   "metadata": {},
   "outputs": [],
   "source": [
    "# Import necessary packages\n",
    "from sklearn.datasets import fetch_openml\n",
    "from sklearn.metrics import accuracy_score,classification_report\n",
    "from sklearn.neighbors import KNeighborsClassifier\n",
    "from sklearn.metrics import confusion_matrix\n",
    "import numpy as np\n",
    "from sklearn import svm\n",
    "from sklearn.linear_model import LogisticRegression\n",
    "import cv2\n",
    "import pandas as pd\n",
    "import glob\n",
    "import os\n",
    "import pyarrow.parquet as pq\n",
    "import seaborn as sns\n",
    "from matplotlib import rcParams\n",
    "from sklearn.datasets import make_classification\n",
    "from sklearn.model_selection import cross_val_score\n",
    "from sklearn.model_selection import RepeatedStratifiedKFold\n",
    "from matplotlib import pyplot\n",
    "import xgboost as xgb\n",
    "from sklearn.metrics import mean_squared_error\n",
    "from statistics import stdev"
   ]
  },
  {
   "cell_type": "code",
   "execution_count": 4,
   "id": "a9fe3229",
   "metadata": {},
   "outputs": [],
   "source": [
    "table = pq.read_table('/Users/grahamsmith/Documents/SpringboardWork/UIsketch.parquet')\n",
    "df = table.to_pandas()"
   ]
  },
  {
   "cell_type": "markdown",
   "id": "cd4349dc",
   "metadata": {},
   "source": [
    "<br>\n",
    "Set the labels to be numeric to make modeling easier (note: this should have been done in the preprocessing step but I forgot).\n",
    "<br>\n",
    "<br>"
   ]
  },
  {
   "cell_type": "code",
   "execution_count": 5,
   "id": "5c72bf28",
   "metadata": {},
   "outputs": [],
   "source": [
    "labels = set(df['label'])\n",
    "dummies = list(range(len(labels)))\n",
    "labeldf = pd.DataFrame([labels, dummies]).T\n",
    "df['label'] = df['label'].replace(list(labeldf.iloc[:,0]),labeldf.iloc[:,1])"
   ]
  },
  {
   "cell_type": "markdown",
   "id": "415219aa",
   "metadata": {},
   "source": [
    "<br>\n",
    "This table is so that the labels can be easily mapped back to the numbers for interpretation.\n",
    "<br>\n",
    "<br>"
   ]
  },
  {
   "cell_type": "code",
   "execution_count": 6,
   "id": "e75c4717",
   "metadata": {
    "scrolled": true
   },
   "outputs": [
    {
     "data": {
      "text/html": [
       "<div>\n",
       "<style scoped>\n",
       "    .dataframe tbody tr th:only-of-type {\n",
       "        vertical-align: middle;\n",
       "    }\n",
       "\n",
       "    .dataframe tbody tr th {\n",
       "        vertical-align: top;\n",
       "    }\n",
       "\n",
       "    .dataframe thead th {\n",
       "        text-align: right;\n",
       "    }\n",
       "</style>\n",
       "<table border=\"1\" class=\"dataframe\">\n",
       "  <thead>\n",
       "    <tr style=\"text-align: right;\">\n",
       "      <th></th>\n",
       "      <th>0</th>\n",
       "      <th>1</th>\n",
       "    </tr>\n",
       "  </thead>\n",
       "  <tbody>\n",
       "    <tr>\n",
       "      <th>0</th>\n",
       "      <td>checkbox_unchecked</td>\n",
       "      <td>0</td>\n",
       "    </tr>\n",
       "    <tr>\n",
       "      <th>1</th>\n",
       "      <td>card</td>\n",
       "      <td>1</td>\n",
       "    </tr>\n",
       "    <tr>\n",
       "      <th>2</th>\n",
       "      <td>data_table</td>\n",
       "      <td>2</td>\n",
       "    </tr>\n",
       "    <tr>\n",
       "      <th>3</th>\n",
       "      <td>alert</td>\n",
       "      <td>3</td>\n",
       "    </tr>\n",
       "    <tr>\n",
       "      <th>4</th>\n",
       "      <td>chip</td>\n",
       "      <td>4</td>\n",
       "    </tr>\n",
       "    <tr>\n",
       "      <th>5</th>\n",
       "      <td>floating_action_button</td>\n",
       "      <td>5</td>\n",
       "    </tr>\n",
       "    <tr>\n",
       "      <th>6</th>\n",
       "      <td>radio_button_unchecked</td>\n",
       "      <td>6</td>\n",
       "    </tr>\n",
       "    <tr>\n",
       "      <th>7</th>\n",
       "      <td>grid_list</td>\n",
       "      <td>7</td>\n",
       "    </tr>\n",
       "    <tr>\n",
       "      <th>8</th>\n",
       "      <td>switch_disabled</td>\n",
       "      <td>8</td>\n",
       "    </tr>\n",
       "    <tr>\n",
       "      <th>9</th>\n",
       "      <td>tooltip</td>\n",
       "      <td>9</td>\n",
       "    </tr>\n",
       "    <tr>\n",
       "      <th>10</th>\n",
       "      <td>menu</td>\n",
       "      <td>10</td>\n",
       "    </tr>\n",
       "    <tr>\n",
       "      <th>11</th>\n",
       "      <td>slider</td>\n",
       "      <td>11</td>\n",
       "    </tr>\n",
       "    <tr>\n",
       "      <th>12</th>\n",
       "      <td>checkbox_checked</td>\n",
       "      <td>12</td>\n",
       "    </tr>\n",
       "    <tr>\n",
       "      <th>13</th>\n",
       "      <td>radio_button_checked</td>\n",
       "      <td>13</td>\n",
       "    </tr>\n",
       "    <tr>\n",
       "      <th>14</th>\n",
       "      <td>text_area</td>\n",
       "      <td>14</td>\n",
       "    </tr>\n",
       "    <tr>\n",
       "      <th>15</th>\n",
       "      <td>text_field</td>\n",
       "      <td>15</td>\n",
       "    </tr>\n",
       "    <tr>\n",
       "      <th>16</th>\n",
       "      <td>dropdown_menu</td>\n",
       "      <td>16</td>\n",
       "    </tr>\n",
       "    <tr>\n",
       "      <th>17</th>\n",
       "      <td>switch_enabled</td>\n",
       "      <td>17</td>\n",
       "    </tr>\n",
       "    <tr>\n",
       "      <th>18</th>\n",
       "      <td>image</td>\n",
       "      <td>18</td>\n",
       "    </tr>\n",
       "    <tr>\n",
       "      <th>19</th>\n",
       "      <td>label</td>\n",
       "      <td>19</td>\n",
       "    </tr>\n",
       "    <tr>\n",
       "      <th>20</th>\n",
       "      <td>button</td>\n",
       "      <td>20</td>\n",
       "    </tr>\n",
       "  </tbody>\n",
       "</table>\n",
       "</div>"
      ],
      "text/plain": [
       "                         0   1\n",
       "0       checkbox_unchecked   0\n",
       "1                     card   1\n",
       "2               data_table   2\n",
       "3                    alert   3\n",
       "4                     chip   4\n",
       "5   floating_action_button   5\n",
       "6   radio_button_unchecked   6\n",
       "7                grid_list   7\n",
       "8          switch_disabled   8\n",
       "9                  tooltip   9\n",
       "10                    menu  10\n",
       "11                  slider  11\n",
       "12        checkbox_checked  12\n",
       "13    radio_button_checked  13\n",
       "14               text_area  14\n",
       "15              text_field  15\n",
       "16           dropdown_menu  16\n",
       "17          switch_enabled  17\n",
       "18                   image  18\n",
       "19                   label  19\n",
       "20                  button  20"
      ]
     },
     "execution_count": 6,
     "metadata": {},
     "output_type": "execute_result"
    }
   ],
   "source": [
    "labeldf"
   ]
  },
  {
   "cell_type": "markdown",
   "id": "04e42882",
   "metadata": {},
   "source": [
    "\n",
    "<br>Do the train/test split that we figured out in the pre-processing notebook\n",
    "<br>\n",
    "<br>"
   ]
  },
  {
   "cell_type": "code",
   "execution_count": 7,
   "id": "3b2f0928",
   "metadata": {},
   "outputs": [],
   "source": [
    "# Sample 80% of images within each class aka label.\n",
    "train = df.groupby('label', group_keys=False).apply(lambda x: x.sample(frac=0.8))\n",
    "# Get the indicies of the images not in the test set and assign those images to the test set.\n",
    "testind = list(set(df.index) - set(train.index))\n",
    "test = df.iloc[testind]"
   ]
  },
  {
   "cell_type": "code",
   "execution_count": 13,
   "id": "8501e11f",
   "metadata": {},
   "outputs": [],
   "source": [
    "#my computer kept crashing so all the following is done w/ a 10% subset of the data\n",
    "train_small = train.groupby('label', group_keys=False).apply(lambda x: x.sample(frac=0.01))\n",
    "x_train = train_small.loc[:, train_small.columns != 'label']\n",
    "y_train = train_small['label']\n",
    "x_test = test.loc[:, test.columns != 'label']\n",
    "y_test = test['label']"
   ]
  },
  {
   "cell_type": "markdown",
   "id": "4a3d86e6",
   "metadata": {},
   "source": [
    "<br>\n",
    "The first model I attempted was XGBoost, because it has ridge regression built in and I figured with so many parameters some would probably be reduced to 0. It is also faster than multiple logistic regression by itself.\n",
    "<br>\n",
    "<br>"
   ]
  },
  {
   "cell_type": "code",
   "execution_count": 23,
   "id": "912a7a2a",
   "metadata": {},
   "outputs": [],
   "source": [
    "from sklearn.preprocessing import StandardScaler\n",
    "from sklearn.pipeline import Pipeline\n",
    "from sklearn.impute import SimpleImputer\n",
    "\n",
    "numeric_pipeline = Pipeline(\n",
    "    steps=[(\"impute\", SimpleImputer(strategy=\"mean\")), \n",
    "           (\"scale\", StandardScaler())]\n",
    ")\n",
    "\n",
    "num_cols = x_train.select_dtypes(include=\"number\").columns\n",
    "\n",
    "from sklearn.compose import ColumnTransformer\n",
    "\n",
    "full_processor = ColumnTransformer(\n",
    "    transformers=[\n",
    "        (\"numeric\", numeric_pipeline, num_cols),\n",
    "    ]\n",
    ")"
   ]
  },
  {
   "cell_type": "code",
   "execution_count": 24,
   "id": "145205e3",
   "metadata": {},
   "outputs": [
    {
     "name": "stdout",
     "output_type": "stream",
     "text": [
      "<class 'xgboost.sklearn.XGBClassifier'>\n"
     ]
    }
   ],
   "source": [
    "import xgboost as xgb\n",
    "\n",
    "xgb_cl = xgb.XGBClassifier()\n",
    "print(type(xgb_cl))"
   ]
  },
  {
   "cell_type": "code",
   "execution_count": 25,
   "id": "9a59a384",
   "metadata": {
    "scrolled": false
   },
   "outputs": [
    {
     "name": "stderr",
     "output_type": "stream",
     "text": [
      "/Users/grahamsmith/opt/anaconda3/lib/python3.8/site-packages/xgboost/sklearn.py:1224: UserWarning: The use of label encoder in XGBClassifier is deprecated and will be removed in a future release. To remove this warning, do the following: 1) Pass option use_label_encoder=False when constructing XGBClassifier object; and 2) Encode your labels (y) as integers starting with 0, i.e. 0, 1, 2, ..., [num_class - 1].\n",
      "  warnings.warn(label_encoder_deprecation_msg, UserWarning)\n",
      "/Users/grahamsmith/opt/anaconda3/lib/python3.8/site-packages/xgboost/data.py:250: FutureWarning: pandas.Int64Index is deprecated and will be removed from pandas in a future version. Use pandas.Index with the appropriate dtype instead.\n",
      "  elif isinstance(data.columns, (pd.Int64Index, pd.RangeIndex)):\n"
     ]
    },
    {
     "name": "stdout",
     "output_type": "stream",
     "text": [
      "[02:30:42] WARNING: /var/folders/sy/f16zz6x50xz3113nwtb9bvq00000gp/T/abs_44tbtwf8c1/croots/recipe/xgboost-split_1659548960882/work/src/learner.cc:1115: Starting in XGBoost 1.3.0, the default evaluation metric used with the objective 'multi:softprob' was changed from 'merror' to 'mlogloss'. Explicitly set eval_metric if you'd like to restore the old behavior.\n"
     ]
    }
   ],
   "source": [
    "from sklearn.metrics import accuracy_score\n",
    "\n",
    "# Init classifier\n",
    "xgb_cl = xgb.XGBClassifier()\n",
    "\n",
    "# Fit\n",
    "xgb_cl.fit(x_train, y_train)\n",
    "\n",
    "# Predict\n",
    "preds = xgb_cl.predict(x_test)"
   ]
  },
  {
   "cell_type": "code",
   "execution_count": 28,
   "id": "355336b1",
   "metadata": {},
   "outputs": [
    {
     "name": "stdout",
     "output_type": "stream",
     "text": [
      "              precision    recall  f1-score   support\n",
      "\n",
      "           0       0.18      0.11      0.14       205\n",
      "           1       0.14      0.13      0.14       194\n",
      "           2       0.11      0.11      0.11       178\n",
      "           3       0.10      0.12      0.11       170\n",
      "           4       0.11      0.19      0.14       181\n",
      "           5       0.18      0.11      0.14       184\n",
      "           6       0.24      0.28      0.25       189\n",
      "           7       0.07      0.05      0.05       175\n",
      "           8       0.23      0.17      0.19       181\n",
      "           9       0.09      0.15      0.11       169\n",
      "          10       0.12      0.12      0.12       177\n",
      "          11       0.35      0.33      0.34       173\n",
      "          12       0.07      0.05      0.06       208\n",
      "          13       0.10      0.07      0.09       175\n",
      "          14       0.18      0.17      0.17       171\n",
      "          15       0.15      0.22      0.18       222\n",
      "          16       0.06      0.04      0.05       166\n",
      "          17       0.17      0.18      0.18       185\n",
      "          18       0.14      0.11      0.12       224\n",
      "          19       0.29      0.36      0.32       211\n",
      "          20       0.25      0.28      0.27       231\n",
      "\n",
      "    accuracy                           0.16      3969\n",
      "   macro avg       0.16      0.16      0.16      3969\n",
      "weighted avg       0.16      0.16      0.16      3969\n",
      "\n"
     ]
    }
   ],
   "source": [
    "accuracy_score(y_test, preds)\n",
    "print(classification_report(y_test, preds))"
   ]
  },
  {
   "cell_type": "code",
   "execution_count": 8,
   "id": "119df259",
   "metadata": {},
   "outputs": [
    {
     "data": {
      "text/plain": [
       "0.08170504443248461"
      ]
     },
     "execution_count": 8,
     "metadata": {},
     "output_type": "execute_result"
    }
   ],
   "source": [
    "#what's the STD of the precision?\n",
    "stdev([.18,.14,.11,.10,.11,.18,.24,.01,.23,.09,.12,.35,.07,.10,.18,.15,.06,.17,.14,.29,.25])"
   ]
  },
  {
   "cell_type": "markdown",
   "id": "9e17acfa",
   "metadata": {},
   "source": [
    "<br>\n",
    "This initial XGBoost model has an overall accuracy score of 42%. This is only slightly better than the ~40% we were getting with KNN in the preprocessing step. More importantly it has a lot less variance in precision between each class, with a standard deviation of only 0.08 so it's a lot more consistent.\n",
    "<br>\n",
    "<br>\n",
    "Even with cutting down my data drammatically it still took more then 12 hours to run this model, so I decided against trying to tune the parameters and instead moved on to my second method LightGBM. I chose it primarily because it is much faster than XGBoost with many of the same benefits.\n",
    "<br>\n",
    "<br>"
   ]
  },
  {
   "cell_type": "code",
   "execution_count": 14,
   "id": "9ee5700c",
   "metadata": {},
   "outputs": [],
   "source": [
    "import optuna  # pip install optuna\n",
    "from sklearn.metrics import log_loss\n",
    "from sklearn.model_selection import StratifiedKFold\n",
    "import lightgbm as lgb\n",
    "from sklearn import metrics"
   ]
  },
  {
   "cell_type": "code",
   "execution_count": 15,
   "id": "b913808f",
   "metadata": {
    "scrolled": true
   },
   "outputs": [
    {
     "name": "stdout",
     "output_type": "stream",
     "text": [
      "[20]\ttraining's multi_logloss: 0.315811\tvalid_0's multi_logloss: 2.89903\n",
      "[40]\ttraining's multi_logloss: 0.0285181\tvalid_0's multi_logloss: 3.0573\n",
      "[60]\ttraining's multi_logloss: 0.00252844\tvalid_0's multi_logloss: 3.33069\n",
      "[80]\ttraining's multi_logloss: 0.000270244\tvalid_0's multi_logloss: 3.64147\n",
      "[100]\ttraining's multi_logloss: 0.000120762\tvalid_0's multi_logloss: 3.75902\n"
     ]
    },
    {
     "data": {
      "text/plain": [
       "LGBMClassifier(learning_rate=0.09, max_depth=-5, random_state=42)"
      ]
     },
     "execution_count": 15,
     "metadata": {},
     "output_type": "execute_result"
    }
   ],
   "source": [
    "model = lgb.LGBMClassifier(learning_rate=0.09, max_depth=-5, random_state=42)\n",
    "model.fit(x_train,y_train, eval_set=[(x_test,y_test), (x_train,y_train)],\n",
    "          verbose=20, eval_metric='logloss')"
   ]
  },
  {
   "cell_type": "code",
   "execution_count": 22,
   "id": "15e75236",
   "metadata": {
    "scrolled": false
   },
   "outputs": [
    {
     "name": "stdout",
     "output_type": "stream",
     "text": [
      "              precision    recall  f1-score   support\n",
      "\n",
      "           0       0.18      0.12      0.15       205\n",
      "           1       0.12      0.13      0.12       194\n",
      "           2       0.12      0.11      0.11       178\n",
      "           3       0.08      0.09      0.09       170\n",
      "           4       0.13      0.27      0.17       181\n",
      "           5       0.18      0.09      0.12       184\n",
      "           6       0.23      0.29      0.25       189\n",
      "           7       0.04      0.03      0.03       175\n",
      "           8       0.33      0.20      0.25       181\n",
      "           9       0.08      0.10      0.09       169\n",
      "          10       0.15      0.14      0.14       177\n",
      "          11       0.30      0.38      0.34       173\n",
      "          12       0.10      0.08      0.09       208\n",
      "          13       0.09      0.07      0.08       175\n",
      "          14       0.13      0.16      0.15       171\n",
      "          15       0.17      0.23      0.19       222\n",
      "          16       0.06      0.04      0.05       166\n",
      "          17       0.30      0.28      0.29       185\n",
      "          18       0.13      0.12      0.13       224\n",
      "          19       0.35      0.35      0.35       211\n",
      "          20       0.26      0.26      0.26       231\n",
      "\n",
      "    accuracy                           0.17      3969\n",
      "   macro avg       0.17      0.17      0.16      3969\n",
      "weighted avg       0.17      0.17      0.17      3969\n",
      "\n"
     ]
    }
   ],
   "source": [
    "result = model.predict(x_test)\n",
    "\n",
    "#preds = predict(model, x_test)\n",
    "print(classification_report(y_test, result))"
   ]
  },
  {
   "cell_type": "markdown",
   "id": "2ec5ff78",
   "metadata": {},
   "source": [
    "#### Summary\n",
    "<br>\n",
    "In this notebook we attempted both XGBoost and LightGBM as algorithms to predict image class. They both had pretty much identical to performance, with both having both lower overall accuracy (bad) and lower variance (good) than the baseline K-Nearest-Neighbors algorithm. also struggled in the same places (classifying drop down menus and labels). However it did only take a breezy 4 hours to run, so it seems like that makes it superior in efficiency at the very least.\n",
    "<br>\n",
    "<br>\n",
    "While I'm going to leave the project here for the sake of expediancy, I will note that if I had more time a Convolutional Neural Network would almost certainly be more accurate than the models I've used here. Sadly all these models are still a far cry from good enough to replace a human at the task of identifying the images, just about all we can say they is that they are better than random chance.\n",
    "<br>\n",
    "<br>\n"
   ]
  }
 ],
 "metadata": {
  "kernelspec": {
   "display_name": "Python 3 (ipykernel)",
   "language": "python",
   "name": "python3"
  },
  "language_info": {
   "codemirror_mode": {
    "name": "ipython",
    "version": 3
   },
   "file_extension": ".py",
   "mimetype": "text/x-python",
   "name": "python",
   "nbconvert_exporter": "python",
   "pygments_lexer": "ipython3",
   "version": "3.8.8"
  }
 },
 "nbformat": 4,
 "nbformat_minor": 5
}
